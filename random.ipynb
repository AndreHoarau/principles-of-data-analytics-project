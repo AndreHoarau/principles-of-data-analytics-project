{
 "cells": [
  {
   "cell_type": "markdown",
   "metadata": {},
   "source": [
    "# Random Numbers\n",
    "\n",
    "***"
   ]
  },
  {
   "cell_type": "markdown",
   "metadata": {},
   "source": [
    "## Prequisites \n",
    "***\n",
    "https://numpy.org/doc/stable/reference/random/index.html"
   ]
  },
  {
   "cell_type": "markdown",
   "metadata": {},
   "source": [
    "## Generate random integers\n",
    "\n",
    "***\n"
   ]
  },
  {
   "cell_type": "code",
   "execution_count": 1,
   "metadata": {},
   "outputs": [],
   "source": [
    "# Numerical arrrays and random numbers\n",
    "import numpy as np\n",
    "\n",
    "#plot.\n",
    "import matplotlib.pyplot as plt\n",
    "rng = np.random.default_rng()\n"
   ]
  },
  {
   "cell_type": "code",
   "execution_count": 2,
   "metadata": {},
   "outputs": [
    {
     "data": {
      "text/plain": [
       "0.5896244954982961"
      ]
     },
     "execution_count": 2,
     "metadata": {},
     "output_type": "execute_result"
    }
   ],
   "source": [
    "# Generate one random float uniformly distributed over the range [0, 1)\n",
    "rng.random()  \n"
   ]
  },
  {
   "cell_type": "code",
   "execution_count": 3,
   "metadata": {},
   "outputs": [
    {
     "data": {
      "text/plain": [
       "0.06369197489564249"
      ]
     },
     "execution_count": 3,
     "metadata": {},
     "output_type": "execute_result"
    }
   ],
   "source": [
    "0.06369197489564249  # may vary\n",
    "#reason for the above and the may vary on the comment as some of the lines are the ouput of the commands as this is what they got \n"
   ]
  },
  {
   "cell_type": "code",
   "execution_count": 4,
   "metadata": {},
   "outputs": [
    {
     "data": {
      "text/plain": [
       "array([-0.65911812, -0.13202906, -0.01253636, -0.33627185, -0.24807595,\n",
       "        1.57071556, -0.04088525,  0.88070126, -0.73354889,  0.07949904])"
      ]
     },
     "execution_count": 4,
     "metadata": {},
     "output_type": "execute_result"
    }
   ],
   "source": [
    "# Generate an array of 10 numbers according to a unit Gaussian distribution.\n",
    "rng.standard_normal(10)  "
   ]
  },
  {
   "cell_type": "code",
   "execution_count": 5,
   "metadata": {},
   "outputs": [
    {
     "data": {
      "text/plain": [
       "array([2, 8, 5, 9, 5], dtype=int64)"
      ]
     },
     "execution_count": 5,
     "metadata": {},
     "output_type": "execute_result"
    }
   ],
   "source": [
    "# Generate an array of 5 integers uniformly over the range [0, 10).\n",
    "rng.integers(low=0, high=10, size=5) "
   ]
  },
  {
   "cell_type": "code",
   "execution_count": 6,
   "metadata": {},
   "outputs": [
    {
     "data": {
      "text/plain": [
       "array([ 4,  6,  6,  3,  3, 10,  7,  9,  1,  2,  8,  5,  6,  2,  2,  6,  2,\n",
       "        9,  1,  8,  6,  3,  0,  4,  1,  4,  5,  4,  3,  3,  0,  9,  4,  0,\n",
       "       10,  1,  5,  8,  7,  8, 10,  6,  8,  0,  3,  0,  7,  5,  6, 10,  8,\n",
       "        6,  2,  7,  4,  9,  2,  0,  3,  6,  2,  0,  1,  2,  7,  5,  4,  9,\n",
       "        3,  2,  0,  0,  0,  3,  8,  3,  0,  7,  4,  5,  6,  4,  8,  6,  6,\n",
       "        6,  5,  5,  4,  8,  0,  3,  7,  1,  3,  6,  4, 10,  6,  8],\n",
       "      dtype=int64)"
      ]
     },
     "execution_count": 6,
     "metadata": {},
     "output_type": "execute_result"
    }
   ],
   "source": [
    "# Generate 10,000 integers over the range [0,10).\n",
    "x = rng.integers(low=0, high =10, size= 100,  endpoint = 10)\n",
    "\n",
    "# Show x\n",
    "x"
   ]
  },
  {
   "cell_type": "code",
   "execution_count": 7,
   "metadata": {},
   "outputs": [
    {
     "data": {
      "text/plain": [
       "(array([ 0,  1,  2,  3,  4,  5,  6,  7,  8,  9, 10], dtype=int64),\n",
       " array([12,  6,  9, 12, 11,  8, 15,  7, 10,  5,  5], dtype=int64))"
      ]
     },
     "execution_count": 7,
     "metadata": {},
     "output_type": "execute_result"
    }
   ],
   "source": [
    "# Get the counts.\n",
    "values,  counts = np.unique(x, return_counts= True)\n",
    "\n",
    "# Show. \n",
    "values, counts \n"
   ]
  },
  {
   "cell_type": "code",
   "execution_count": 8,
   "metadata": {},
   "outputs": [
    {
     "data": {
      "text/plain": [
       "<BarContainer object of 11 artists>"
      ]
     },
     "execution_count": 8,
     "metadata": {},
     "output_type": "execute_result"
    },
    {
     "data": {
      "image/png": "[encoded data removed]",
      "text/plain": [
       "<Figure size 640x480 with 1 Axes>"
      ]
     },
     "metadata": {},
     "output_type": "display_data"
    }
   ],
   "source": [
    "# plot the bar chart.\n",
    "plt.bar(values,counts, edgecolor = 'black')"
   ]
  },
  {
   "cell_type": "markdown",
   "metadata": {},
   "source": [
    "# Uniform Distribution\n",
    "***"
   ]
  },
  {
   "cell_type": "code",
   "execution_count": 9,
   "metadata": {},
   "outputs": [
    {
     "data": {
      "text/plain": [
       "array([0.3849717 , 8.01325538, 9.32967313, ..., 8.71884438, 7.25067326,\n",
       "       0.03249074])"
      ]
     },
     "execution_count": 9,
     "metadata": {},
     "output_type": "execute_result"
    }
   ],
   "source": [
    "# Generate 10000 floats uniformly distrubted over the range [0,10).]\n",
    "x = rng.uniform(low= 0.0 , high=10.0, size =10000)\n",
    "# show.\n",
    "x\n"
   ]
  },
  {
   "cell_type": "code",
   "execution_count": 10,
   "metadata": {},
   "outputs": [
    {
     "data": {
      "text/plain": [
       "(array([3.70180469e-04, 5.62984076e-04, 2.71304559e-03, ...,\n",
       "        9.99454736e+00, 9.99629961e+00, 9.99889579e+00]),\n",
       " array([1, 1, 1, ..., 1, 1, 1], dtype=int64),\n",
       " 10000,\n",
       " 10000)"
      ]
     },
     "execution_count": 10,
     "metadata": {},
     "output_type": "execute_result"
    }
   ],
   "source": [
    "# Get the counts.\n",
    "values,  counts = np.unique(x, return_counts= True)\n",
    "\n",
    "# Show. \n",
    "values, counts ,values.size, counts.size\n"
   ]
  },
  {
   "cell_type": "code",
   "execution_count": 11,
   "metadata": {},
   "outputs": [
    {
     "data": {
      "text/plain": [
       "array([6.48412393, 7.28259093, 1.48159503, 7.02739118, 7.02880008,\n",
       "       3.06262176, 2.37574318, 9.72105095, 6.98388596, 6.87258397,\n",
       "       0.62152997, 7.41544413, 7.62995601, 8.44055864, 8.08715767,\n",
       "       7.69004073, 0.10578169, 4.71324052, 8.18375539, 9.19973364,\n",
       "       2.46304036, 3.37478271, 5.65027259, 5.01123955, 9.14113501,\n",
       "       0.39157844, 9.49893904, 1.93422078, 2.56651798, 1.26076187,\n",
       "       1.47072237, 0.03130971, 5.49102896, 2.33515651, 8.2372516 ,\n",
       "       8.50163583, 8.06571008, 3.88037624, 1.46814419, 3.63767614,\n",
       "       0.89734029, 8.59891837, 6.28868504, 1.13333542, 1.42668625,\n",
       "       8.01152695, 4.72153443, 3.43126335, 3.63220289, 0.88664115,\n",
       "       8.1821355 , 2.23924397, 6.96689347, 8.52065332, 7.51226977,\n",
       "       4.43611988, 7.34263851, 8.07820626, 5.42282411, 8.9397169 ,\n",
       "       7.24142632, 9.23377626, 8.56923386, 9.57127069, 2.27074453,\n",
       "       7.59475098, 8.93245232, 7.72694716, 8.98468365, 9.82863968,\n",
       "       2.20142403, 9.42973597, 9.35052024, 4.8524802 , 1.00750384,\n",
       "       9.98323138, 2.30312323, 4.69037381, 4.23910411, 3.73440755,\n",
       "       4.10061047, 0.61399399, 1.14909697, 9.73245242, 2.45477955,\n",
       "       0.3984073 , 2.69280407, 8.14031396, 4.18078571, 3.82138107,\n",
       "       3.38730182, 6.14590425, 0.0392916 , 8.59586912, 4.34630172,\n",
       "       8.6588032 , 8.27392227, 1.00741419, 7.10723793, 1.73224512])"
      ]
     },
     "execution_count": 11,
     "metadata": {},
     "output_type": "execute_result"
    }
   ],
   "source": [
    "# Generate 100 floats uniformly distrubted over the range [0,10).]\n",
    "x = rng.uniform(low= 0.0 , high=10.0, size =100)\n",
    "# show.\n",
    "x"
   ]
  },
  {
   "cell_type": "code",
   "execution_count": 12,
   "metadata": {},
   "outputs": [
    {
     "data": {
      "text/plain": [
       "(array([0.03130971, 0.0392916 , 0.10578169, 0.39157844, 0.3984073 ,\n",
       "        0.61399399, 0.62152997, 0.88664115, 0.89734029, 1.00741419,\n",
       "        1.00750384, 1.13333542, 1.14909697, 1.26076187, 1.42668625,\n",
       "        1.46814419, 1.47072237, 1.48159503, 1.73224512, 1.93422078,\n",
       "        2.20142403, 2.23924397, 2.27074453, 2.30312323, 2.33515651,\n",
       "        2.37574318, 2.45477955, 2.46304036, 2.56651798, 2.69280407,\n",
       "        3.06262176, 3.37478271, 3.38730182, 3.43126335, 3.63220289,\n",
       "        3.63767614, 3.73440755, 3.82138107, 3.88037624, 4.10061047,\n",
       "        4.18078571, 4.23910411, 4.34630172, 4.43611988, 4.69037381,\n",
       "        4.71324052, 4.72153443, 4.8524802 , 5.01123955, 5.42282411,\n",
       "        5.49102896, 5.65027259, 6.14590425, 6.28868504, 6.48412393,\n",
       "        6.87258397, 6.96689347, 6.98388596, 7.02739118, 7.02880008,\n",
       "        7.10723793, 7.24142632, 7.28259093, 7.34263851, 7.41544413,\n",
       "        7.51226977, 7.59475098, 7.62995601, 7.69004073, 7.72694716,\n",
       "        8.01152695, 8.06571008, 8.07820626, 8.08715767, 8.14031396,\n",
       "        8.1821355 , 8.18375539, 8.2372516 , 8.27392227, 8.44055864,\n",
       "        8.50163583, 8.52065332, 8.56923386, 8.59586912, 8.59891837,\n",
       "        8.6588032 , 8.93245232, 8.9397169 , 8.98468365, 9.14113501,\n",
       "        9.19973364, 9.23377626, 9.35052024, 9.42973597, 9.49893904,\n",
       "        9.57127069, 9.72105095, 9.73245242, 9.82863968, 9.98323138]),\n",
       " array([1, 1, 1, 1, 1, 1, 1, 1, 1, 1, 1, 1, 1, 1, 1, 1, 1, 1, 1, 1, 1, 1,\n",
       "        1, 1, 1, 1, 1, 1, 1, 1, 1, 1, 1, 1, 1, 1, 1, 1, 1, 1, 1, 1, 1, 1,\n",
       "        1, 1, 1, 1, 1, 1, 1, 1, 1, 1, 1, 1, 1, 1, 1, 1, 1, 1, 1, 1, 1, 1,\n",
       "        1, 1, 1, 1, 1, 1, 1, 1, 1, 1, 1, 1, 1, 1, 1, 1, 1, 1, 1, 1, 1, 1,\n",
       "        1, 1, 1, 1, 1, 1, 1, 1, 1, 1, 1, 1], dtype=int64),\n",
       " 100,\n",
       " 100)"
      ]
     },
     "execution_count": 12,
     "metadata": {},
     "output_type": "execute_result"
    }
   ],
   "source": [
    "# Get the counts.\n",
    "values,  counts = np.unique(x, return_counts= True)\n",
    "\n",
    "# Show. \n",
    "values, counts ,values.size, counts.size\n"
   ]
  },
  {
   "cell_type": "code",
   "execution_count": 13,
   "metadata": {},
   "outputs": [
    {
     "data": {
      "text/plain": [
       "<BarContainer object of 100 artists>"
      ]
     },
     "execution_count": 13,
     "metadata": {},
     "output_type": "execute_result"
    },
    {
     "data": {
      "image/png": "[encoded data removed]",
      "text/plain": [
       "<Figure size 640x480 with 1 Axes>"
      ]
     },
     "metadata": {},
     "output_type": "display_data"
    }
   ],
   "source": [
    "# plot the bar chart.\n",
    "plt.bar(values,counts, edgecolor= 'black')"
   ]
  },
  {
   "cell_type": "code",
   "execution_count": 14,
   "metadata": {},
   "outputs": [
    {
     "data": {
      "text/plain": [
       "array([0.486786  , 6.34108262, 3.44523737, ..., 3.71707397, 3.72975534,\n",
       "       8.42883072])"
      ]
     },
     "execution_count": 14,
     "metadata": {},
     "output_type": "execute_result"
    }
   ],
   "source": [
    "# Generate 100 floats uniformly distrubted over the range [0,10).]\n",
    "x = rng.uniform(low= 0.0 , high=10.0, size =10000)\n",
    "# show.\n",
    "x"
   ]
  },
  {
   "cell_type": "code",
   "execution_count": 15,
   "metadata": {},
   "outputs": [
    {
     "data": {
      "text/plain": [
       "(array([ 0.,  1.,  2.,  3.,  4.,  5.,  6.,  7.,  8.,  9., 10.]),\n",
       " array([ 460,  952, 1056, 1004,  973, 1002, 1036, 1071,  980, 1001,  465],\n",
       "       dtype=int64),\n",
       " 11,\n",
       " 11)"
      ]
     },
     "execution_count": 15,
     "metadata": {},
     "output_type": "execute_result"
    }
   ],
   "source": [
    "# Round values in x.\n",
    "x_rounded = np.round(x, decimals = 0)\n",
    "# Get the counts.\n",
    "values,  counts = np.unique(x_rounded, return_counts= True)\n",
    "\n",
    "# Show. \n",
    "values, counts ,values.size, counts.size\n"
   ]
  },
  {
   "cell_type": "code",
   "execution_count": 16,
   "metadata": {},
   "outputs": [
    {
     "data": {
      "text/plain": [
       "<BarContainer object of 11 artists>"
      ]
     },
     "execution_count": 16,
     "metadata": {},
     "output_type": "execute_result"
    },
    {
     "data": {
      "image/png": "[encoded data removed]",
      "text/plain": [
       "<Figure size 640x480 with 1 Axes>"
      ]
     },
     "metadata": {},
     "output_type": "display_data"
    }
   ],
   "source": [
    "# plot the bar chart.\n",
    "plt.bar(values,counts, edgecolor= 'black')"
   ]
  },
  {
   "cell_type": "code",
   "execution_count": 17,
   "metadata": {},
   "outputs": [
    {
     "data": {
      "text/plain": [
       "array([1.68844872, 6.90796728, 3.91933829, ..., 8.37442584, 0.43840286,\n",
       "       2.48508495])"
      ]
     },
     "execution_count": 17,
     "metadata": {},
     "output_type": "execute_result"
    }
   ],
   "source": [
    "# Generate 10000 floats uniformly distrubted over the range [0,10).]\n",
    "x = rng.uniform(low= 0.0 , high=10.0, size =10000)\n",
    "# show.\n",
    "x\n"
   ]
  },
  {
   "cell_type": "code",
   "execution_count": 18,
   "metadata": {},
   "outputs": [
    {
     "data": {
      "text/plain": [
       "(array([1.28152064e-03, 3.10031615e-03, 3.36306882e-03, ...,\n",
       "        9.99581651e+00, 9.99661603e+00, 9.99976999e+00]),\n",
       " array([1, 1, 1, ..., 1, 1, 1], dtype=int64),\n",
       " 10000,\n",
       " 10000)"
      ]
     },
     "execution_count": 18,
     "metadata": {},
     "output_type": "execute_result"
    }
   ],
   "source": [
    "# Get the counts.\n",
    "values,  counts = np.unique(x, return_counts= True)\n",
    "\n",
    "# Show. \n",
    "values, counts ,values.size, counts.size\n"
   ]
  },
  {
   "cell_type": "code",
   "execution_count": 21,
   "metadata": {},
   "outputs": [
    {
     "data": {
      "text/plain": [
       "(array([1041.,  999., 1038.,  991.,  967.,  996.,  971., 1019.,  984.,\n",
       "         994.]),\n",
       " array([1.28152064e-03, 1.00113037e+00, 2.00097921e+00, 3.00082806e+00,\n",
       "        4.00067691e+00, 5.00052575e+00, 6.00037460e+00, 7.00022345e+00,\n",
       "        8.00007229e+00, 8.99992114e+00, 9.99976999e+00]),\n",
       " <BarContainer object of 10 artists>)"
      ]
     },
     "execution_count": 21,
     "metadata": {},
     "output_type": "execute_result"
    },
    {
     "data": {
      "image/png": "[encoded data removed]",
      "text/plain": [
       "<Figure size 640x480 with 1 Axes>"
      ]
     },
     "metadata": {},
     "output_type": "display_data"
    }
   ],
   "source": [
    "# Plot histogram\n",
    "plt.hist(x, edgecolor= 'black')"
   ]
  },
  {
   "cell_type": "markdown",
   "metadata": {},
   "source": [
    "## Standard Normal\n",
    "***"
   ]
  },
  {
   "cell_type": "code",
   "execution_count": 24,
   "metadata": {},
   "outputs": [
    {
     "data": {
      "text/plain": [
       "array([-1.33384131, -1.44778807,  0.98224023, ..., -1.65428846,\n",
       "        0.69818328,  1.3534802 ])"
      ]
     },
     "execution_count": 24,
     "metadata": {},
     "output_type": "execute_result"
    }
   ],
   "source": [
    "# Generate an array of 10,000 numbers according to a unit Gaussian distribution.\n",
    "x= rng.standard_normal(size= 10000)\n",
    "\n",
    "# Show. \n",
    "x"
   ]
  },
  {
   "cell_type": "code",
   "execution_count": 25,
   "metadata": {},
   "outputs": [
    {
     "data": {
      "text/plain": [
       "(array([8.000e+00, 7.100e+01, 6.120e+02, 1.862e+03, 3.024e+03, 2.718e+03,\n",
       "        1.328e+03, 3.280e+02, 4.600e+01, 3.000e+00]),\n",
       " array([-3.92649076, -3.11140306, -2.29631536, -1.48122765, -0.66613995,\n",
       "         0.14894775,  0.96403545,  1.77912316,  2.59421086,  3.40929856,\n",
       "         4.22438626]),\n",
       " <BarContainer object of 10 artists>)"
      ]
     },
     "execution_count": 25,
     "metadata": {},
     "output_type": "execute_result"
    },
    {
     "data": {
      "image/png": "[encoded data removed]",
      "text/plain": [
       "<Figure size 640x480 with 1 Axes>"
      ]
     },
     "metadata": {},
     "output_type": "display_data"
    }
   ],
   "source": [
    "# Plot histogram\n",
    "plt.hist(x, edgecolor= 'black')"
   ]
  },
  {
   "cell_type": "code",
   "execution_count": null,
   "metadata": {},
   "outputs": [],
   "source": []
  },
  {
   "cell_type": "code",
   "execution_count": null,
   "metadata": {},
   "outputs": [],
   "source": []
  },
  {
   "cell_type": "markdown",
   "metadata": {},
   "source": [
    "***\n",
    "\n",
    "\n",
    "#### End"
   ]
  }
 ],
 "metadata": {
  "kernelspec": {
   "display_name": "base",
   "language": "python",
   "name": "python3"
  },
  "language_info": {
   "codemirror_mode": {
    "name": "ipython",
    "version": 3
   },
   "file_extension": ".py",
   "mimetype": "text/x-python",
   "name": "python",
   "nbconvert_exporter": "python",
   "pygments_lexer": "ipython3",
   "version": "3.11.5"
  }
 },
 "nbformat": 4,
 "nbformat_minor": 2
}
