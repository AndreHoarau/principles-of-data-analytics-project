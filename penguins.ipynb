{
 "cells": [
  {
   "cell_type": "markdown",
   "metadata": {},
   "source": [
    "# Palmer Penguins\n",
    "***\n",
    "This notebook contains my analysis of the famous palmer penguins dataset.\n",
    "\n",
    "![Palmer](https://upload.wikimedia.org/wikipedia/commons/thumb/2/24/Antarctica_relief_location_map.jpg/240px-Antarctica_relief_location_map.jpg)\n",
    "\n",
    "The data set is avaialble [on Github](https://allisonhorst.github.io/palmerpenguins/).\n",
    "\n",
    "The Palmer Penguin data set was collected by Dr. Kristen Gorman at Palmer Station in Antarctica. \n",
    "The data set was originally created with the intention of studying penguin foraging behaviour and environmental variability relationships.\n",
    "This data set is now commonly used to study data analytics and machine learning.\n",
    "The data set looks at the following variables:\n",
    "|Variable      |Type/Unit                 |\n",
    "|--------------|:------------------------ |\n",
    "|Species       |Adelie/ Chinstrap/ Gentoo |\n",
    "|Island        |Torgersen/ Biscoe/ Dream  |\n",
    "|Bill length   | mm                       |\n",
    "|Bill depth    | mm                       |   \n",
    "|Flipper length| mm                       |\n",
    "|Body mass     | g                        |\n",
    "|Sex           | male/female/NaN          |\n",
    "\n",
    "The three species of penguins are pictured below:\n",
    "<div style=\"display: flex; justify-content: space-between;\">\n",
    "    <div style=\"text-align: center;\">\n",
    "        <strong>Adelie</strong>\n",
    "        <br>\n",
    "        <img src=\"https://upload.wikimedia.org/wikipedia/commons/8/82/Manchot_Ad%C3%A9lie_-_Adelie_Penguin.jpg\" style=\"max-width: 100%; height: 200px;\">\n",
    "    </div>\n",
    "    <div style=\"text-align: center;\">\n",
    "        <strong>Chinstrap</strong>\n",
    "        <br>\n",
    "        <img src=\"https://upload.wikimedia.org/wikipedia/commons/thumb/c/cd/Chinstrap_Penguin.jpg/160px-Chinstrap_Penguin.jpg\" style=\"max-width: 100%; height: 200px;\">\n",
    "    </div>\n",
    "    <div style=\"text-align: center;\">\n",
    "        <strong>Gentoo</strong>\n",
    "        <br>\n",
    "        <img src=\"https://upload.wikimedia.org/wikipedia/commons/thumb/0/00/Brown_Bluff-2016-Tabarin_Peninsula%E2%80%93Gentoo_penguin_%28Pygoscelis_papua%29_03.jpg/800px-Brown_Bluff-2016-Tabarin_Peninsula%E2%80%93Gentoo_penguin_%28Pygoscelis_papua%29_03.jpg\"style=\"max-width: 100%; height: 200px;\">\n",
    "    </div>\n",
    "</div>\n",
    "\n",
    "The penguins had their species identified, were sexed, measured and the island on which they were found was recorded.\n",
    "The entire data set is comprised of 344 penguins:\n",
    "|Species | Amount|\n",
    "|--------|:------:|\n",
    "|Adelie  |152|\n",
    "|Chinstrap|124|\n",
    "|Gentoo  |68|\n",
    "\n",
    "This notebook will give an overview of the data set, suggest vairiables for modelling and create approrprate bar and histogram charts. It will then provide further analysis of 2 appropriate variables to draw correlations and reasonable conclusions.\n",
    "\n",
    "Note: Soruces are provided accordingly in some instances these were used in conjuction with AI to gain a simpler understanding of how to implement.\n",
    "Sources:\n",
    "Introduction to the data set https://cran.r-project.org/web/packages/palmerpenguins/readme/README.html\n",
    "HTML Image formatting and insertion : https://www.w3schools.com/html/html_images.asp"
   ]
  },
  {
   "cell_type": "markdown",
   "metadata": {},
   "source": [
    "## Imports\n",
    "***\n",
    "we use pandas for the dataframe data structure\n",
    "\n",
    "it allows us to investigate CSV files amongst other features"
   ]
  },
  {
   "cell_type": "code",
   "execution_count": 1,
   "metadata": {},
   "outputs": [],
   "source": [
    "# Data frames.\n",
    "import pandas as pd"
   ]
  },
  {
   "cell_type": "markdown",
   "metadata": {},
   "source": [
    "We use matplotlib for creating bar charts and histograms "
   ]
  },
  {
   "cell_type": "code",
   "execution_count": 2,
   "metadata": {},
   "outputs": [],
   "source": [
    "# Import Matplotlib\n",
    "import matplotlib.pyplot as plt"
   ]
  },
  {
   "cell_type": "markdown",
   "metadata": {},
   "source": [
    "We will use Seaborne for other types of data visualitaions NOTE ANDRE ELABORATE ON THIS \n"
   ]
  },
  {
   "cell_type": "code",
   "execution_count": 3,
   "metadata": {},
   "outputs": [],
   "source": [
    "import seaborn as sns"
   ]
  },
  {
   "cell_type": "markdown",
   "metadata": {},
   "source": [
    "## Load Data\n",
    "Load the palmer penguins data set from a URL."
   ]
  },
  {
   "cell_type": "code",
   "execution_count": 4,
   "metadata": {},
   "outputs": [],
   "source": [
    "# Load the penguins data set.\n",
    "df = pd.read_csv(\"https://raw.githubusercontent.com/mwaskom/seaborn-data/master/penguins.csv\")"
   ]
  },
  {
   "cell_type": "markdown",
   "metadata": {},
   "source": [
    "The data is now loaded and we can inspect it."
   ]
  },
  {
   "cell_type": "code",
   "execution_count": 5,
   "metadata": {},
   "outputs": [
    {
     "data": {
      "text/html": [
       "<div>\n",
       "<style scoped>\n",
       "    .dataframe tbody tr th:only-of-type {\n",
       "        vertical-align: middle;\n",
       "    }\n",
       "\n",
       "    .dataframe tbody tr th {\n",
       "        vertical-align: top;\n",
       "    }\n",
       "\n",
       "    .dataframe thead th {\n",
       "        text-align: right;\n",
       "    }\n",
       "</style>\n",
       "<table border=\"1\" class=\"dataframe\">\n",
       "  <thead>\n",
       "    <tr style=\"text-align: right;\">\n",
       "      <th></th>\n",
       "      <th>species</th>\n",
       "      <th>island</th>\n",
       "      <th>bill_length_mm</th>\n",
       "      <th>bill_depth_mm</th>\n",
       "      <th>flipper_length_mm</th>\n",
       "      <th>body_mass_g</th>\n",
       "      <th>sex</th>\n",
       "    </tr>\n",
       "  </thead>\n",
       "  <tbody>\n",
       "    <tr>\n",
       "      <th>0</th>\n",
       "      <td>Adelie</td>\n",
       "      <td>Torgersen</td>\n",
       "      <td>39.1</td>\n",
       "      <td>18.7</td>\n",
       "      <td>181.0</td>\n",
       "      <td>3750.0</td>\n",
       "      <td>MALE</td>\n",
       "    </tr>\n",
       "    <tr>\n",
       "      <th>1</th>\n",
       "      <td>Adelie</td>\n",
       "      <td>Torgersen</td>\n",
       "      <td>39.5</td>\n",
       "      <td>17.4</td>\n",
       "      <td>186.0</td>\n",
       "      <td>3800.0</td>\n",
       "      <td>FEMALE</td>\n",
       "    </tr>\n",
       "    <tr>\n",
       "      <th>2</th>\n",
       "      <td>Adelie</td>\n",
       "      <td>Torgersen</td>\n",
       "      <td>40.3</td>\n",
       "      <td>18.0</td>\n",
       "      <td>195.0</td>\n",
       "      <td>3250.0</td>\n",
       "      <td>FEMALE</td>\n",
       "    </tr>\n",
       "    <tr>\n",
       "      <th>3</th>\n",
       "      <td>Adelie</td>\n",
       "      <td>Torgersen</td>\n",
       "      <td>NaN</td>\n",
       "      <td>NaN</td>\n",
       "      <td>NaN</td>\n",
       "      <td>NaN</td>\n",
       "      <td>NaN</td>\n",
       "    </tr>\n",
       "    <tr>\n",
       "      <th>4</th>\n",
       "      <td>Adelie</td>\n",
       "      <td>Torgersen</td>\n",
       "      <td>36.7</td>\n",
       "      <td>19.3</td>\n",
       "      <td>193.0</td>\n",
       "      <td>3450.0</td>\n",
       "      <td>FEMALE</td>\n",
       "    </tr>\n",
       "    <tr>\n",
       "      <th>...</th>\n",
       "      <td>...</td>\n",
       "      <td>...</td>\n",
       "      <td>...</td>\n",
       "      <td>...</td>\n",
       "      <td>...</td>\n",
       "      <td>...</td>\n",
       "      <td>...</td>\n",
       "    </tr>\n",
       "    <tr>\n",
       "      <th>339</th>\n",
       "      <td>Gentoo</td>\n",
       "      <td>Biscoe</td>\n",
       "      <td>NaN</td>\n",
       "      <td>NaN</td>\n",
       "      <td>NaN</td>\n",
       "      <td>NaN</td>\n",
       "      <td>NaN</td>\n",
       "    </tr>\n",
       "    <tr>\n",
       "      <th>340</th>\n",
       "      <td>Gentoo</td>\n",
       "      <td>Biscoe</td>\n",
       "      <td>46.8</td>\n",
       "      <td>14.3</td>\n",
       "      <td>215.0</td>\n",
       "      <td>4850.0</td>\n",
       "      <td>FEMALE</td>\n",
       "    </tr>\n",
       "    <tr>\n",
       "      <th>341</th>\n",
       "      <td>Gentoo</td>\n",
       "      <td>Biscoe</td>\n",
       "      <td>50.4</td>\n",
       "      <td>15.7</td>\n",
       "      <td>222.0</td>\n",
       "      <td>5750.0</td>\n",
       "      <td>MALE</td>\n",
       "    </tr>\n",
       "    <tr>\n",
       "      <th>342</th>\n",
       "      <td>Gentoo</td>\n",
       "      <td>Biscoe</td>\n",
       "      <td>45.2</td>\n",
       "      <td>14.8</td>\n",
       "      <td>212.0</td>\n",
       "      <td>5200.0</td>\n",
       "      <td>FEMALE</td>\n",
       "    </tr>\n",
       "    <tr>\n",
       "      <th>343</th>\n",
       "      <td>Gentoo</td>\n",
       "      <td>Biscoe</td>\n",
       "      <td>49.9</td>\n",
       "      <td>16.1</td>\n",
       "      <td>213.0</td>\n",
       "      <td>5400.0</td>\n",
       "      <td>MALE</td>\n",
       "    </tr>\n",
       "  </tbody>\n",
       "</table>\n",
       "<p>344 rows × 7 columns</p>\n",
       "</div>"
      ],
      "text/plain": [
       "    species     island  bill_length_mm  bill_depth_mm  flipper_length_mm  \\\n",
       "0    Adelie  Torgersen            39.1           18.7              181.0   \n",
       "1    Adelie  Torgersen            39.5           17.4              186.0   \n",
       "2    Adelie  Torgersen            40.3           18.0              195.0   \n",
       "3    Adelie  Torgersen             NaN            NaN                NaN   \n",
       "4    Adelie  Torgersen            36.7           19.3              193.0   \n",
       "..      ...        ...             ...            ...                ...   \n",
       "339  Gentoo     Biscoe             NaN            NaN                NaN   \n",
       "340  Gentoo     Biscoe            46.8           14.3              215.0   \n",
       "341  Gentoo     Biscoe            50.4           15.7              222.0   \n",
       "342  Gentoo     Biscoe            45.2           14.8              212.0   \n",
       "343  Gentoo     Biscoe            49.9           16.1              213.0   \n",
       "\n",
       "     body_mass_g     sex  \n",
       "0         3750.0    MALE  \n",
       "1         3800.0  FEMALE  \n",
       "2         3250.0  FEMALE  \n",
       "3            NaN     NaN  \n",
       "4         3450.0  FEMALE  \n",
       "..           ...     ...  \n",
       "339          NaN     NaN  \n",
       "340       4850.0  FEMALE  \n",
       "341       5750.0    MALE  \n",
       "342       5200.0  FEMALE  \n",
       "343       5400.0    MALE  \n",
       "\n",
       "[344 rows x 7 columns]"
      ]
     },
     "execution_count": 5,
     "metadata": {},
     "output_type": "execute_result"
    }
   ],
   "source": [
    "# Lets have a look.\n",
    "df"
   ]
  },
  {
   "cell_type": "markdown",
   "metadata": {},
   "source": [
    "## Inspect Data\n",
    "***"
   ]
  },
  {
   "cell_type": "code",
   "execution_count": 6,
   "metadata": {},
   "outputs": [
    {
     "data": {
      "text/plain": [
       "species                 Adelie\n",
       "island               Torgersen\n",
       "bill_length_mm            39.1\n",
       "bill_depth_mm             18.7\n",
       "flipper_length_mm        181.0\n",
       "body_mass_g             3750.0\n",
       "sex                       MALE\n",
       "Name: 0, dtype: object"
      ]
     },
     "execution_count": 6,
     "metadata": {},
     "output_type": "execute_result"
    }
   ],
   "source": [
    "#Look at the first row.\n",
    "df.iloc[0]"
   ]
  },
  {
   "cell_type": "code",
   "execution_count": 7,
   "metadata": {},
   "outputs": [
    {
     "data": {
      "text/plain": [
       "species               object\n",
       "island                object\n",
       "bill_length_mm       float64\n",
       "bill_depth_mm        float64\n",
       "flipper_length_mm    float64\n",
       "body_mass_g          float64\n",
       "sex                   object\n",
       "dtype: object"
      ]
     },
     "execution_count": 7,
     "metadata": {},
     "output_type": "execute_result"
    }
   ],
   "source": [
    "# Let's undertand the types of data we have in this data set.\n",
    "df.dtypes"
   ]
  },
  {
   "cell_type": "markdown",
   "metadata": {},
   "source": [
    "We can see above that the data is either in the format as floating point numbers or objects. Objects are non-heterogenous data and are common for strings. Floating point numbers should be treated with caution especially if further calculations or manipulations of the data are performed. This is because binary systems are commonly not accurate due to the 64 bit limits and therefore can lead to rounding.\n",
    "\n",
    "Interestingly one of the variables that we do not always have a clear value for is sex. This is most likely to the surveyour not being able to sex the penguin at the time. This analysis would like to take the penguin measurements to:\n",
    "1. Determine trends of penguin measurements between species.\n",
    "2. Determine differences if penguin measurement between sexes.\n",
    "3. Use these findings to give an estimated guess as to the missing sexes of the penguins.\n",
    "\n",
    "Source: https://www.geeksforgeeks.org/floating-point-error-in-python/ "
   ]
  },
  {
   "cell_type": "code",
   "execution_count": 8,
   "metadata": {},
   "outputs": [
    {
     "data": {
      "text/plain": [
       "0        MALE\n",
       "1      FEMALE\n",
       "2      FEMALE\n",
       "3         NaN\n",
       "4      FEMALE\n",
       "        ...  \n",
       "339       NaN\n",
       "340    FEMALE\n",
       "341      MALE\n",
       "342    FEMALE\n",
       "343      MALE\n",
       "Name: sex, Length: 344, dtype: object"
      ]
     },
     "execution_count": 8,
     "metadata": {},
     "output_type": "execute_result"
    }
   ],
   "source": [
    "# Sex of penguins \n",
    "df['sex']"
   ]
  },
  {
   "cell_type": "code",
   "execution_count": 9,
   "metadata": {},
   "outputs": [
    {
     "name": "stdout",
     "output_type": "stream",
     "text": [
      "sex\n",
      "MALE      168\n",
      "FEMALE    165\n",
      "Name: count, dtype: int64\n",
      "333\n"
     ]
    }
   ],
   "source": [
    "# Count the number of penguins of each sex  \n",
    "Value_counts = df['sex'].value_counts()\n",
    "# How many of these sexes are there in total?\n",
    "Total_Identifiable_Penguins = Value_counts.sum()\n",
    "\n",
    "print(Value_counts)\n",
    "\n",
    "print(Total_Identifiable_Penguins)"
   ]
  },
  {
   "cell_type": "markdown",
   "metadata": {},
   "source": [
    "As one can see above there are 333 penguins that have been sexed and using the data here one would hope we can make a reasonable prediction as to the sex of the 11 NaN penguins."
   ]
  },
  {
   "cell_type": "code",
   "execution_count": 10,
   "metadata": {},
   "outputs": [
    {
     "data": {
      "text/html": [
       "<div>\n",
       "<style scoped>\n",
       "    .dataframe tbody tr th:only-of-type {\n",
       "        vertical-align: middle;\n",
       "    }\n",
       "\n",
       "    .dataframe tbody tr th {\n",
       "        vertical-align: top;\n",
       "    }\n",
       "\n",
       "    .dataframe thead th {\n",
       "        text-align: right;\n",
       "    }\n",
       "</style>\n",
       "<table border=\"1\" class=\"dataframe\">\n",
       "  <thead>\n",
       "    <tr style=\"text-align: right;\">\n",
       "      <th></th>\n",
       "      <th>bill_length_mm</th>\n",
       "      <th>bill_depth_mm</th>\n",
       "      <th>flipper_length_mm</th>\n",
       "      <th>body_mass_g</th>\n",
       "    </tr>\n",
       "  </thead>\n",
       "  <tbody>\n",
       "    <tr>\n",
       "      <th>count</th>\n",
       "      <td>342.000000</td>\n",
       "      <td>342.000000</td>\n",
       "      <td>342.000000</td>\n",
       "      <td>342.000000</td>\n",
       "    </tr>\n",
       "    <tr>\n",
       "      <th>mean</th>\n",
       "      <td>43.921930</td>\n",
       "      <td>17.151170</td>\n",
       "      <td>200.915205</td>\n",
       "      <td>4201.754386</td>\n",
       "    </tr>\n",
       "    <tr>\n",
       "      <th>std</th>\n",
       "      <td>5.459584</td>\n",
       "      <td>1.974793</td>\n",
       "      <td>14.061714</td>\n",
       "      <td>801.954536</td>\n",
       "    </tr>\n",
       "    <tr>\n",
       "      <th>min</th>\n",
       "      <td>32.100000</td>\n",
       "      <td>13.100000</td>\n",
       "      <td>172.000000</td>\n",
       "      <td>2700.000000</td>\n",
       "    </tr>\n",
       "    <tr>\n",
       "      <th>25%</th>\n",
       "      <td>39.225000</td>\n",
       "      <td>15.600000</td>\n",
       "      <td>190.000000</td>\n",
       "      <td>3550.000000</td>\n",
       "    </tr>\n",
       "    <tr>\n",
       "      <th>50%</th>\n",
       "      <td>44.450000</td>\n",
       "      <td>17.300000</td>\n",
       "      <td>197.000000</td>\n",
       "      <td>4050.000000</td>\n",
       "    </tr>\n",
       "    <tr>\n",
       "      <th>75%</th>\n",
       "      <td>48.500000</td>\n",
       "      <td>18.700000</td>\n",
       "      <td>213.000000</td>\n",
       "      <td>4750.000000</td>\n",
       "    </tr>\n",
       "    <tr>\n",
       "      <th>max</th>\n",
       "      <td>59.600000</td>\n",
       "      <td>21.500000</td>\n",
       "      <td>231.000000</td>\n",
       "      <td>6300.000000</td>\n",
       "    </tr>\n",
       "  </tbody>\n",
       "</table>\n",
       "</div>"
      ],
      "text/plain": [
       "       bill_length_mm  bill_depth_mm  flipper_length_mm  body_mass_g\n",
       "count      342.000000     342.000000         342.000000   342.000000\n",
       "mean        43.921930      17.151170         200.915205  4201.754386\n",
       "std          5.459584       1.974793          14.061714   801.954536\n",
       "min         32.100000      13.100000         172.000000  2700.000000\n",
       "25%         39.225000      15.600000         190.000000  3550.000000\n",
       "50%         44.450000      17.300000         197.000000  4050.000000\n",
       "75%         48.500000      18.700000         213.000000  4750.000000\n",
       "max         59.600000      21.500000         231.000000  6300.000000"
      ]
     },
     "execution_count": 10,
     "metadata": {},
     "output_type": "execute_result"
    }
   ],
   "source": [
    "# Descibe the data set.\n",
    "df.describe()\n"
   ]
  },
  {
   "cell_type": "markdown",
   "metadata": {},
   "source": [
    "## Bar Chart\n",
    "***\n",
    "This Bar chart we will take a look at the different variables between species and then between sexes of the same species\n",
    "We will initially look at the average of each quantitative variable between the different sexes of each species of penguins.\n"
   ]
  },
  {
   "cell_type": "code",
   "execution_count": 11,
   "metadata": {},
   "outputs": [
    {
     "name": "stdout",
     "output_type": "stream",
     "text": [
      "Index(['species', 'island', 'bill_length_mm', 'bill_depth_mm',\n",
      "       'flipper_length_mm', 'body_mass_g', 'sex'],\n",
      "      dtype='object')\n"
     ]
    },
    {
     "name": "stderr",
     "output_type": "stream",
     "text": [
      "C:\\Users\\andre.hoarau\\AppData\\Local\\Temp\\ipykernel_1168\\3982571016.py:15: UserWarning: FixedFormatter should only be used together with FixedLocator\n",
      "  ax.set_xticklabels([f'{species} - {sex}' for species, sex in zip(df['species'], df['sex'])], rotation=45, ha='right')\n"
     ]
    },
    {
     "data": {
      "image/png": "[encoded data removed]",
      "text/plain": [
       "<Figure size 1200x800 with 4 Axes>"
      ]
     },
     "metadata": {},
     "output_type": "display_data"
    }
   ],
   "source": [
    "# We want to first get rid of any of the unidentified sexed penguins\n",
    "defineddf = df.dropna(subset= ['sex'])\n",
    "\n",
    "# Average bill length per sex needs to be calculated\n",
    "# Using groupby we group species and sex with  lengths in mm average\n",
    "defineddf_billlengthaverage = defineddf.groupby(['species', 'sex'], )['bill_length_mm'].mean().reset_index()\n",
    "defineddf_billdepthaverage = defineddf.groupby(['species', 'sex'], )['bill_depth_mm'].mean().reset_index()\n",
    "defineddf_flipperlengthaverage = defineddf.groupby(['species', 'sex'], )['flipper_length_mm'].mean().reset_index()\n",
    "defineddf_bodymassaverage = defineddf.groupby(['species', 'sex'], )['body_mass_g'].mean().reset_index()\n",
    "print(defineddf.columns)\n",
    "fig, axes = plt.subplots(2,2, figsize= (12,8))\n",
    "# Creates the bar chart looking at the species and sex seperating them into male female and the different species and prints their average lengths\n",
    "for ax, df, title in zip(axes.ravel(), [defineddf_billlengthaverage, defineddf_billdepthaverage, defineddf_flipperlengthaverage, defineddf_bodymassaverage], ['Bill Length', 'Bill Depth', 'Flipper Length', 'Body Mass']):\n",
    "    bars= ax.bar([f'{species} - {sex}' for species, sex in zip(df['species'], df['sex'])], df.iloc[:, 2])\n",
    "    ax.set_xticklabels([f'{species} - {sex}' for species, sex in zip(df['species'], df['sex'])], rotation=45, ha='right')\n",
    "    ax.set_title(title)\n",
    "    ax.grid(True)\n",
    "    if title == 'Body Mass':\n",
    "        ax.set_ylabel('Average Measurement (g)')\n",
    "    else:\n",
    "        ax.set_ylabel('Average Measurement (mm)')\n",
    "    for ax in axes.flat:\n",
    "        for bar in ax.patches:\n",
    "            height = bar.get_height()\n",
    "            \n",
    "            ax.text(bar.get_x() + bar.get_width() / 2, height, f'{height:.2f}', ha='center', va='bottom')\n",
    "\n",
    "plt.tight_layout()\n",
    "\n",
    "\n",
    "\n",
    "plt.show()\n"
   ]
  },
  {
   "cell_type": "code",
   "execution_count": 15,
   "metadata": {},
   "outputs": [
    {
     "name": "stdout",
     "output_type": "stream",
     "text": [
      "      Species        Measurement  Difference  Percentage Difference (%)\n",
      "0      Adelie     Bill Length Mm        3.13                       7.76\n",
      "1      Adelie      Bill Depth Mm        1.45                       7.61\n",
      "2      Adelie  Flipper Length Mm        4.62                       2.40\n",
      "3      Adelie        Body Mass G      674.66                      16.69\n",
      "4   Chinstrap     Bill Length Mm        4.52                       8.85\n",
      "5   Chinstrap      Bill Depth Mm        1.66                       8.65\n",
      "6   Chinstrap  Flipper Length Mm        8.18                       4.09\n",
      "7   Chinstrap        Body Mass G      411.76                      10.45\n",
      "8      Gentoo     Bill Length Mm        3.91                       7.90\n",
      "9      Gentoo      Bill Depth Mm        1.48                       9.42\n",
      "10     Gentoo  Flipper Length Mm        8.83                       3.99\n",
      "11     Gentoo        Body Mass G      805.09                      14.68\n"
     ]
    }
   ],
   "source": [
    "\n",
    "\n",
    "# Calculate differences and percentage differences for each species\n",
    "differences_list = []\n",
    "\n",
    "# Iterate over each species\n",
    "for species in defineddf['species'].unique():\n",
    "    # Filter data for the current species and separate males and females\n",
    "    species_data = defineddf[defineddf['species'] == species]\n",
    "    males = species_data[species_data['sex'] == 'MALE']\n",
    "    females = species_data[species_data['sex'] == 'FEMALE']\n",
    "    \n",
    "    # Calculate the differences and percentage differences for each measurement\n",
    "    for measurement in ['bill_length_mm', 'bill_depth_mm', 'flipper_length_mm', 'body_mass_g']:\n",
    "        male_mean = males[measurement].mean()\n",
    "        female_mean = females[measurement].mean()\n",
    "        difference = round(abs(female_mean - male_mean),2)  # Take absolute value\n",
    "        percentage_difference = round(abs(((female_mean - male_mean) / male_mean) * 100),2)  # Take absolute value\n",
    "        \n",
    "        # Append the differences to the list\n",
    "        differences_list.append({\n",
    "            'Species': species,\n",
    "            'Measurement': measurement.replace('_', ' ').title(),\n",
    "            'Difference': difference,\n",
    "            'Percentage Difference (%)': percentage_difference\n",
    "        })\n",
    "\n",
    "# Create a DataFrame from the differences list\n",
    "differences_df = pd.DataFrame(differences_list)\n",
    "\n",
    "# Display the table\n",
    "print(differences_df)"
   ]
  },
  {
   "cell_type": "markdown",
   "metadata": {},
   "source": [
    "The above data tells us that across all species of penguins that males are larger then their same species females. One can see that the largest percentage difference is between the body mass of male and female Adelie penguins at 16.69 %. Also the smallest difference is flipper length between Adelie penguins at 2.4 percent."
   ]
  },
  {
   "cell_type": "markdown",
   "metadata": {},
   "source": [
    "# this will be big\n",
    "\n",
    "*you might have a paragaph pragraphs* have sentences.you might have a paragaph pragraphs have sentences.\n",
    "you might have a paragaph pragraphs have sentences.\n",
    "you might have a paragaph pragraphs have sentences.\n",
    "you might have a paragaph pragraphs have sentences.\n",
    "you might have a paragaph pragraphs have sentences.\n",
    "you might have a paragaph pragraphs have sentences.\n",
    "you might have a paragaph pragraphs have sentences.\n",
    "you might have a paragaph pragraphs have sentences.\n",
    "\n",
    "if you want a second paragraph leave a blank line! if you want a second paragraph leave a blank line!\n",
    "if you want a second paragraph leave a blank line!\n",
    "if you want a second paragraph leave a blank line!\n",
    "if you want a second paragraph leave a blank line!\n",
    "if you want a second paragraph leave a blank line!\n",
    "if you want a second paragraph leave a blank line!if you want a second paragraph leave a blank line!\n",
    "if you want a second paragraph leave a blank line!\n",
    "**if you want a second paragraph leave a blank line!**\n",
    "\n",
    "\n",
    "\n",
    "## this will be slightly smaller \n",
    "- #Bullet\n",
    "- Point \n",
    "- Lists \n",
    "\n",
    "### this will be slightly smaller again\n",
    "1. numbereed bullets\n",
    "1. just use numbers.\n",
    "1. this can be all sorted 1. \n",
    "1. how complex\n",
    "\n",
    "> The definition of stupidity...... \n",
    "#### this will be slightly smaller again again\n",
    "##### this will be slightly smaller again again again\n",
    "###### this will be slightly smaller again again again again"
   ]
  },
  {
   "cell_type": "markdown",
   "metadata": {},
   "source": [
    "## Tables\n",
    "\n",
    "***\n",
    "\n",
    "|Species   | Bill Length (mm) |bODY mass (g) |          \n",
    "|----------|-----------------:|-------------:|\n",
    "|Adelie    |             38.8 |          3701|\n",
    "|Chinstrap |             48.8 |          3733|\n",
    "|Gentoo    |             47.5 |          5076|"
   ]
  },
  {
   "cell_type": "markdown",
   "metadata": {},
   "source": [
    "```  bash\n",
    "$ ptyhon.py \n",
    "```"
   ]
  },
  {
   "cell_type": "markdown",
   "metadata": {},
   "source": [
    "## Math \n",
    "***\n",
    "$ f(x) = x^2$\n",
    "\n"
   ]
  },
  {
   "cell_type": "markdown",
   "metadata": {},
   "source": []
  },
  {
   "cell_type": "markdown",
   "metadata": {},
   "source": [
    "***\n",
    "###\n",
    "End "
   ]
  },
  {
   "cell_type": "markdown",
   "metadata": {},
   "source": []
  }
 ],
 "metadata": {
  "kernelspec": {
   "display_name": "Python 3",
   "language": "python",
   "name": "python3"
  },
  "language_info": {
   "codemirror_mode": {
    "name": "ipython",
    "version": 3
   },
   "file_extension": ".py",
   "mimetype": "text/x-python",
   "name": "python",
   "nbconvert_exporter": "python",
   "pygments_lexer": "ipython3",
   "version": "3.11.5"
  }
 },
 "nbformat": 4,
 "nbformat_minor": 2
}
